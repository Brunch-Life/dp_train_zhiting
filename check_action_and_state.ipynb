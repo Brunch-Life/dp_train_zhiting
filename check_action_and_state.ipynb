{
 "cells": [
  {
   "cell_type": "code",
   "execution_count": 1,
   "metadata": {},
   "outputs": [],
   "source": [
    "import numpy as np"
   ]
  },
  {
   "cell_type": "code",
   "execution_count": 6,
   "id": "3349f71f",
   "metadata": {},
   "outputs": [],
   "source": [
    "np_data = np.load(\n",
    "    \"/zhangxin11-tos-volc-engine/tyz/WM_dataset/peach_plate_wooden_full/success/success_peach_plate_wooden_proc_0_num_0_seed_0.npz\",\n",
    "    allow_pickle=True,\n",
    ")\n",
    "# np_data = np.load(\n",
    "#     \"/iag_ad_01/ad/zhangxin11/tyz/observation-reward-model/data/world_model_rl_dataset/tomato_pick_and_place/success/success_tomato_proc_0_numid_0000_epsid_0.npz\",\n",
    "#     allow_pickle=True,\n",
    "# )\n",
    "\n",
    "from transforms3d import euler\n",
    "\n",
    "\n",
    "def get_tensor(raw_action):\n",
    "    position = raw_action[\"end\"][\"position\"].reshape(-1, 3)\n",
    "    orientation = raw_action[\"end\"][\"orientation\"].reshape(-1, 4)\n",
    "    gripper = raw_action[\"effector\"][\"position_gripper\"]\n",
    "    action_euler = np.stack([euler.quat2euler(x, \"sxyz\") for x in orientation])\n",
    "    actions = np.concatenate((position, action_euler, gripper), axis=-1)\n",
    "    return actions\n",
    "\n",
    "\n",
    "actions = get_tensor(np_data[\"arr_0\"].tolist()[\"action\"])\n",
    "states = get_tensor(np_data[\"arr_0\"].tolist()[\"state\"])"
   ]
  },
  {
   "cell_type": "code",
   "execution_count": 7,
   "id": "96e75b79",
   "metadata": {},
   "outputs": [
    {
     "name": "stdout",
     "output_type": "stream",
     "text": [
      "不同维度action和state差值（百分比）的最大值 [3.72157434e-02 2.77708795e+01 8.79213514e+01 2.00024915e+00\n",
      " 6.06699612e+01 9.97629013e-01 1.04000000e+00]\n",
      "不同维度action和state差值（百分比）的平均值 [0.00329015 0.20152364 0.89235759 0.0239365  2.82902419 0.03419239\n",
      " 0.99493385]\n",
      "不同维度action和state差值（绝对大小）的最大值 [0.0158138  0.00770814 0.01720185 6.28274011 0.04427574 0.01728406\n",
      " 1.04      ]\n",
      "不同维度action和state差值（绝对大小）的平均值 [0.00133257 0.00179137 0.00207168 0.07518776 0.00217567 0.00267385\n",
      " 0.99493385]\n"
     ]
    }
   ],
   "source": [
    "diff = actions - states\n",
    "diff_per = diff / actions\n",
    "print(\"不同维度action和state差值（百分比）的最大值\", np.abs(diff_per).max(axis=0))\n",
    "print(\"不同维度action和state差值（百分比）的平均值\", np.mean(np.abs(diff_per), axis=0))\n",
    "print(\"不同维度action和state差值（绝对大小）的最大值\", np.abs(diff).max(axis=0))\n",
    "print(\"不同维度action和state差值（绝对大小）的平均值\", np.mean(np.abs(diff), axis=0))"
   ]
  },
  {
   "cell_type": "code",
   "execution_count": 8,
   "id": "1abf009a",
   "metadata": {},
   "outputs": [
    {
     "name": "stdout",
     "output_type": "stream",
     "text": [
      "预处理后数据action相邻时刻变化的绝对大小的平均值 [2.07631573e-04 1.13320441e-04 2.25605014e-04 9.48408411e-05\n",
      " 4.34128923e-04 1.75781874e-04 1.24610592e-02]\n",
      "预处理后数据action相邻时刻变化的绝对大小的最大值 [0.01562059 0.00567083 0.01829824 0.00890683 0.04206247 0.00421917\n",
      " 2.        ]\n"
     ]
    }
   ],
   "source": [
    "np_data = np.load(\n",
    "    \"/iag_ad_01/ad/zhangxin11/tyz/reward_diffusion_policy_relative/diffusion_policy/data/pickplace_long/seed_0/ep_0/total_steps.npz\",\n",
    "    allow_pickle=True,\n",
    ")\n",
    "\n",
    "actions = np_data[\"action\"]\n",
    "print(\n",
    "    \"预处理后数据action相邻时刻变化的绝对大小的平均值\",\n",
    "    np.mean(np.abs(np.diff(actions, axis=0)), axis=0),\n",
    ")\n",
    "print(\n",
    "    \"预处理后数据action相邻时刻变化的绝对大小的最大值\",\n",
    "    np.max(np.abs(np.diff(actions, axis=0)), axis=0),\n",
    ")"
   ]
  },
  {
   "cell_type": "code",
   "execution_count": null,
   "id": "d60041d2",
   "metadata": {},
   "outputs": [],
   "source": []
  },
  {
   "cell_type": "code",
   "execution_count": null,
   "id": "c59dfc69",
   "metadata": {},
   "outputs": [],
   "source": []
  }
 ],
 "metadata": {
  "kernelspec": {
   "display_name": "maniskill_evaluation",
   "language": "python",
   "name": "python3"
  },
  "language_info": {
   "codemirror_mode": {
    "name": "ipython",
    "version": 3
   },
   "file_extension": ".py",
   "mimetype": "text/x-python",
   "name": "python",
   "nbconvert_exporter": "python",
   "pygments_lexer": "ipython3",
   "version": "3.10.0"
  }
 },
 "nbformat": 4,
 "nbformat_minor": 5
}
